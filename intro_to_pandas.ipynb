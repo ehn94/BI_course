{
 "cells": [
  {
   "cell_type": "markdown",
   "metadata": {},
   "source": [
    "- Sep er hvor den skal separere strengen. Her sætter vi den til tabulator.\n",
    "- Compression bruger vi til at pakke filen ud. \n",
    "- Den datastruktur der bliver returneret som dataframe. "
   ]
  },
  {
   "cell_type": "code",
   "execution_count": 3,
   "metadata": {
    "scrolled": true
   },
   "outputs": [
    {
     "name": "stderr",
     "output_type": "stream",
     "text": [
      "b'Skipping line 101882: expected 15 fields, saw 22\\nSkipping line 115512: expected 15 fields, saw 22\\n'\n",
      "b'Skipping line 328404: expected 15 fields, saw 22\\n'\n",
      "b'Skipping line 1412642: expected 15 fields, saw 22\\n'\n"
     ]
    }
   ],
   "source": [
    "import pandas as pd \n",
    "\n",
    "path_to_file='./amazon_reviews_multilingual_UK_v1_00.tsv.gz'\n",
    "\n",
    "df = pd.read_csv(path_to_file, sep='\\t', compression='gzip', error_bad_lines=False)"
   ]
  },
  {
   "cell_type": "code",
   "execution_count": 4,
   "metadata": {},
   "outputs": [
    {
     "data": {
      "text/html": [
       "<div>\n",
       "<style scoped>\n",
       "    .dataframe tbody tr th:only-of-type {\n",
       "        vertical-align: middle;\n",
       "    }\n",
       "\n",
       "    .dataframe tbody tr th {\n",
       "        vertical-align: top;\n",
       "    }\n",
       "\n",
       "    .dataframe thead th {\n",
       "        text-align: right;\n",
       "    }\n",
       "</style>\n",
       "<table border=\"1\" class=\"dataframe\">\n",
       "  <thead>\n",
       "    <tr style=\"text-align: right;\">\n",
       "      <th></th>\n",
       "      <th>marketplace</th>\n",
       "      <th>customer_id</th>\n",
       "      <th>review_id</th>\n",
       "      <th>product_id</th>\n",
       "      <th>product_parent</th>\n",
       "      <th>product_title</th>\n",
       "      <th>product_category</th>\n",
       "      <th>star_rating</th>\n",
       "      <th>helpful_votes</th>\n",
       "      <th>total_votes</th>\n",
       "      <th>vine</th>\n",
       "      <th>verified_purchase</th>\n",
       "      <th>review_headline</th>\n",
       "      <th>review_body</th>\n",
       "      <th>review_date</th>\n",
       "    </tr>\n",
       "  </thead>\n",
       "  <tbody>\n",
       "    <tr>\n",
       "      <th>0</th>\n",
       "      <td>UK</td>\n",
       "      <td>10349</td>\n",
       "      <td>R2YVNBBMXD8KVJ</td>\n",
       "      <td>B00MWK7BWG</td>\n",
       "      <td>307651059</td>\n",
       "      <td>My Favourite Faded Fantasy</td>\n",
       "      <td>Music</td>\n",
       "      <td>5</td>\n",
       "      <td>0</td>\n",
       "      <td>0</td>\n",
       "      <td>N</td>\n",
       "      <td>Y</td>\n",
       "      <td>Five Stars</td>\n",
       "      <td>The best album ever!</td>\n",
       "      <td>2014-12-29</td>\n",
       "    </tr>\n",
       "    <tr>\n",
       "      <th>1</th>\n",
       "      <td>UK</td>\n",
       "      <td>10629</td>\n",
       "      <td>R2K4BOL8MN1TTY</td>\n",
       "      <td>B006CHML4I</td>\n",
       "      <td>835010224</td>\n",
       "      <td>Seiko 5 Men's Automatic Watch with Black Dial ...</td>\n",
       "      <td>Watches</td>\n",
       "      <td>4</td>\n",
       "      <td>0</td>\n",
       "      <td>0</td>\n",
       "      <td>N</td>\n",
       "      <td>Y</td>\n",
       "      <td>Great watch from casio.</td>\n",
       "      <td>What a great watch. Both watches and strap is ...</td>\n",
       "      <td>2013-10-24</td>\n",
       "    </tr>\n",
       "    <tr>\n",
       "      <th>2</th>\n",
       "      <td>UK</td>\n",
       "      <td>12136</td>\n",
       "      <td>R3P40IEALROVCH</td>\n",
       "      <td>B00IIFCJX0</td>\n",
       "      <td>271687675</td>\n",
       "      <td>Dexter Season 8</td>\n",
       "      <td>Digital_Video_Download</td>\n",
       "      <td>5</td>\n",
       "      <td>0</td>\n",
       "      <td>0</td>\n",
       "      <td>N</td>\n",
       "      <td>Y</td>\n",
       "      <td>fantastic</td>\n",
       "      <td>love watching all the episodes of Dexter, when...</td>\n",
       "      <td>2014-05-09</td>\n",
       "    </tr>\n",
       "    <tr>\n",
       "      <th>3</th>\n",
       "      <td>UK</td>\n",
       "      <td>12268</td>\n",
       "      <td>R25XL1WWYRDLA9</td>\n",
       "      <td>B000W7JWUA</td>\n",
       "      <td>211383699</td>\n",
       "      <td>The Settlers of Catan Board Game - discontinue...</td>\n",
       "      <td>Toys</td>\n",
       "      <td>5</td>\n",
       "      <td>0</td>\n",
       "      <td>0</td>\n",
       "      <td>N</td>\n",
       "      <td>Y</td>\n",
       "      <td>Five Stars</td>\n",
       "      <td>Excellent game!!!</td>\n",
       "      <td>2014-09-19</td>\n",
       "    </tr>\n",
       "    <tr>\n",
       "      <th>4</th>\n",
       "      <td>UK</td>\n",
       "      <td>12677</td>\n",
       "      <td>RVTVB9YDXSFYH</td>\n",
       "      <td>B005JTAP4S</td>\n",
       "      <td>182965893</td>\n",
       "      <td>Peter: A Darkened Fairytale (Vol 1)</td>\n",
       "      <td>Digital_Ebook_Purchase</td>\n",
       "      <td>5</td>\n",
       "      <td>12</td>\n",
       "      <td>12</td>\n",
       "      <td>N</td>\n",
       "      <td>N</td>\n",
       "      <td>A twist on Tales</td>\n",
       "      <td>This cute, quick read is very different to say...</td>\n",
       "      <td>2013-09-18</td>\n",
       "    </tr>\n",
       "  </tbody>\n",
       "</table>\n",
       "</div>"
      ],
      "text/plain": [
       "  marketplace  customer_id       review_id  product_id  product_parent  \\\n",
       "0          UK        10349  R2YVNBBMXD8KVJ  B00MWK7BWG       307651059   \n",
       "1          UK        10629  R2K4BOL8MN1TTY  B006CHML4I       835010224   \n",
       "2          UK        12136  R3P40IEALROVCH  B00IIFCJX0       271687675   \n",
       "3          UK        12268  R25XL1WWYRDLA9  B000W7JWUA       211383699   \n",
       "4          UK        12677   RVTVB9YDXSFYH  B005JTAP4S       182965893   \n",
       "\n",
       "                                       product_title        product_category  \\\n",
       "0                         My Favourite Faded Fantasy                   Music   \n",
       "1  Seiko 5 Men's Automatic Watch with Black Dial ...                 Watches   \n",
       "2                                    Dexter Season 8  Digital_Video_Download   \n",
       "3  The Settlers of Catan Board Game - discontinue...                    Toys   \n",
       "4                Peter: A Darkened Fairytale (Vol 1)  Digital_Ebook_Purchase   \n",
       "\n",
       "   star_rating  helpful_votes  total_votes vine verified_purchase  \\\n",
       "0            5              0            0    N                 Y   \n",
       "1            4              0            0    N                 Y   \n",
       "2            5              0            0    N                 Y   \n",
       "3            5              0            0    N                 Y   \n",
       "4            5             12           12    N                 N   \n",
       "\n",
       "           review_headline                                        review_body  \\\n",
       "0               Five Stars                               The best album ever!   \n",
       "1  Great watch from casio.  What a great watch. Both watches and strap is ...   \n",
       "2                fantastic  love watching all the episodes of Dexter, when...   \n",
       "3               Five Stars                                  Excellent game!!!   \n",
       "4         A twist on Tales  This cute, quick read is very different to say...   \n",
       "\n",
       "  review_date  \n",
       "0  2014-12-29  \n",
       "1  2013-10-24  \n",
       "2  2014-05-09  \n",
       "3  2014-09-19  \n",
       "4  2013-09-18  "
      ]
     },
     "execution_count": 4,
     "metadata": {},
     "output_type": "execute_result"
    }
   ],
   "source": [
    "df.head()"
   ]
  },
  {
   "cell_type": "markdown",
   "metadata": {},
   "source": [
    "- iloc til at trække data fra et bestemt index ud"
   ]
  },
  {
   "cell_type": "code",
   "execution_count": 5,
   "metadata": {},
   "outputs": [
    {
     "data": {
      "text/plain": [
       "marketplace                                  UK\n",
       "customer_id                               10349\n",
       "review_id                        R2YVNBBMXD8KVJ\n",
       "product_id                           B00MWK7BWG\n",
       "product_parent                        307651059\n",
       "product_title        My Favourite Faded Fantasy\n",
       "product_category                          Music\n",
       "star_rating                                   5\n",
       "helpful_votes                                 0\n",
       "total_votes                                   0\n",
       "vine                                          N\n",
       "verified_purchase                             Y\n",
       "review_headline                      Five Stars\n",
       "review_body                The best album ever!\n",
       "review_date                          2014-12-29\n",
       "Name: 0, dtype: object"
      ]
     },
     "execution_count": 5,
     "metadata": {},
     "output_type": "execute_result"
    }
   ],
   "source": [
    "df.iloc[0]"
   ]
  },
  {
   "cell_type": "code",
   "execution_count": 6,
   "metadata": {},
   "outputs": [
    {
     "data": {
      "text/plain": [
       "array(['Music', 'Watches', 'Digital_Video_Download', 'Toys',\n",
       "       'Digital_Ebook_Purchase', 'Books', 'Video DVD', 'Mobile_Apps',\n",
       "       'Wireless', 'Electronics', 'Home Improvement',\n",
       "       'Digital_Music_Purchase', 'PC', 'Video Games', 'Camera', 'Shoes',\n",
       "       'Home', 'Musical Instruments', 'Sports', 'Baby', 'Video',\n",
       "       'Health & Personal Care', 'Automotive', 'Home Entertainment',\n",
       "       'Personal_Care_Appliances', 'Software', 'Office Products',\n",
       "       'Lawn and Garden', 'Pet Products', 'Kitchen', 'Beauty', 'Luggage',\n",
       "       'Apparel'], dtype=object)"
      ]
     },
     "execution_count": 6,
     "metadata": {},
     "output_type": "execute_result"
    }
   ],
   "source": [
    "df.product_category.unique()"
   ]
  },
  {
   "cell_type": "markdown",
   "metadata": {},
   "source": [
    "Yoga & programmers"
   ]
  },
  {
   "cell_type": "code",
   "execution_count": 9,
   "metadata": {},
   "outputs": [],
   "source": [
    "df_prg = df[(df.product_category == 'Books') & (df.product_title.str.contains('Programming'))]\n",
    "df_yoga = df[(df.product_category == 'Books') & (df.product_title.str.contains('Yoga'))]"
   ]
  },
  {
   "cell_type": "code",
   "execution_count": 10,
   "metadata": {},
   "outputs": [],
   "source": [
    "from textblob import TextBlob"
   ]
  },
  {
   "cell_type": "code",
   "execution_count": 39,
   "metadata": {},
   "outputs": [],
   "source": [
    "yoga_review = df_yoga.review_body\n",
    "prg_review = df_prg.review_body"
   ]
  },
  {
   "cell_type": "code",
   "execution_count": 26,
   "metadata": {},
   "outputs": [],
   "source": [
    "import numpy as np"
   ]
  },
  {
   "cell_type": "code",
   "execution_count": 124,
   "metadata": {},
   "outputs": [],
   "source": [
    "def analyse_sentiments_avg(review_bodies):\n",
    "    sentiments = []\n",
    "    for review_body in review_bodies:\n",
    "        tb = TextBlob(review_body.replace('<br />', '\\n'))\n",
    "        polarity, subjectivity = tb.sentiment\n",
    "        sentiments.append((polarity, subjectivity))\n",
    "\n",
    "    sentiments_arr = np.array(sentiments)\n",
    "    return sentiments_arr[:,0].mean(), sentiments_arr[:,1].mean()"
   ]
  },
  {
   "cell_type": "code",
   "execution_count": 130,
   "metadata": {},
   "outputs": [],
   "source": [
    "def analyse_sentiments_median(review_bodies):\n",
    "    sentiments = []\n",
    "    for review_body in review_bodies:\n",
    "        tb = TextBlob(review_body.replace('<br />', '\\n'))\n",
    "        polarity, subjectivity = tb.sentiment\n",
    "        sentiments.append((polarity, subjectivity))\n",
    "\n",
    "    sentiments_arr = np.array(sentiments)\n",
    "    return np.median(sentiments_arr[:,0]), np.median(sentiments_arr[:,1])"
   ]
  },
  {
   "cell_type": "code",
   "execution_count": 126,
   "metadata": {},
   "outputs": [],
   "source": [
    "yogaAvg = analyse_sentiments_avg(yoga_review)\n",
    "progAvg = analyse_sentiments_avg(prg_review)\n",
    "yogaMed = analyse_sentiments_median(yoga_review)\n",
    "progMed = analyse_sentiments_median(prg_review)"
   ]
  },
  {
   "cell_type": "code",
   "execution_count": 87,
   "metadata": {},
   "outputs": [],
   "source": [
    "import pygal"
   ]
  },
  {
   "cell_type": "code",
   "execution_count": 127,
   "metadata": {},
   "outputs": [],
   "source": [
    "line_chart = pygal.Bar()\n",
    "line_chart.title = 'Review Average Sentiments'\n",
    "line_chart.add('Yoga Polarity', yogaAvg[0])\n",
    "line_chart.add('Yoga Subjectivity', yogaAvg[1])\n",
    "line_chart.add('Prog Polarity', progAvg[0])\n",
    "line_chart.add('Prog Subjectivity', progAvg[1])\n",
    "line_chart.render_to_file('avg_chart.svg')  "
   ]
  },
  {
   "cell_type": "code",
   "execution_count": 128,
   "metadata": {},
   "outputs": [],
   "source": [
    "line_chart = pygal.Bar()\n",
    "line_chart.title = 'Review Median Sentiments'\n",
    "line_chart.add('Yoga Polarity', yogaMed[0])\n",
    "line_chart.add('Yoga Subjectivity', yogaMed[1])\n",
    "line_chart.add('Prog Polarity', progMed[0])\n",
    "line_chart.add('Prog Subjectivity', progMed[1])\n",
    "line_chart.render_to_file('median_chart.svg')  "
   ]
  }
 ],
 "metadata": {
  "kernelspec": {
   "display_name": "Python 3",
   "language": "python",
   "name": "python3"
  },
  "language_info": {
   "codemirror_mode": {
    "name": "ipython",
    "version": 3
   },
   "file_extension": ".py",
   "mimetype": "text/x-python",
   "name": "python",
   "nbconvert_exporter": "python",
   "pygments_lexer": "ipython3",
   "version": "3.6.5"
  }
 },
 "nbformat": 4,
 "nbformat_minor": 2
}
